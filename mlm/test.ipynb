{
 "cells": [
  {
   "cell_type": "code",
   "execution_count": 28,
   "metadata": {},
   "outputs": [
    {
     "data": {
      "text/plain": [
       "'I love you-----?'"
      ]
     },
     "execution_count": 28,
     "metadata": {},
     "output_type": "execute_result"
    }
   ],
   "source": [
    "import re\n",
    "t = 'I love you=====-----?'\n",
    "t = re.sub(r\"\\=+\",\"\",t)\n",
    "t"
   ]
  },
  {
   "cell_type": "code",
   "execution_count": 91,
   "metadata": {},
   "outputs": [
    {
     "name": "stdout",
     "output_type": "stream",
     "text": [
      "                                                  Abstract  Label\n",
      "0        Interpublics Directors are elected each year b...    NaN\n",
      "1        Section 3.7. Removal. No director may be remov...    NaN\n",
      "2        14. Equity Share Capital Rupees crores Particu...    NaN\n",
      "3        Company Profile on: Osaka Gas Company Ltd Comp...    NaN\n",
      "4        (d)In advance of any meeting of stockholders, ...    NaN\n",
      "...                                                    ...    ...\n",
      "4565693  Environment, Society, and Governance Enhancing...    NaN\n",
      "4565694  6.2 Training Supplier shall be responsible for...    NaN\n",
      "4565695  Succession Planning and Other Executive Office...    NaN\n",
      "4565696  第四十九条 单独或者合计持有公司 10%以上股份的股东有权向董事会请求召开 临时股东大会，并...    NaN\n",
      "4565697  Partnerships and Initiatives It strikes some o...    NaN\n",
      "\n",
      "[4565698 rows x 2 columns]\n",
      "                                                  Abstract  Label\n",
      "0        Interpublics Directors are elected each year b...    NaN\n",
      "1        Section 3.7. Removal. No director may be remov...    NaN\n",
      "2        14. Equity Share Capital Rupees crores Particu...    NaN\n",
      "3        Company Profile on: Osaka Gas Company Ltd Comp...    NaN\n",
      "4        (d)In advance of any meeting of stockholders, ...    NaN\n",
      "...                                                    ...    ...\n",
      "4565692                      Global Compact Status: Active    NaN\n",
      "4565693  Environment, Society, and Governance Enhancing...    NaN\n",
      "4565694  6.2 Training Supplier shall be responsible for...    NaN\n",
      "4565695  Succession Planning and Other Executive Office...    NaN\n",
      "4565697  Partnerships and Initiatives It strikes some o...    NaN\n",
      "\n",
      "[4518734 rows x 2 columns]\n"
     ]
    }
   ],
   "source": [
    "import pandas as pd\n",
    "def is_chinese(string):\n",
    "    \"\"\"\n",
    "    检查整个字符串是否包含中文\n",
    "    :param string: 需要检查的字符串\n",
    "    :return: bool\n",
    "    \"\"\"\n",
    "    for ch in string:\n",
    "        if u'\\u4e00' <= ch <= u'\\u9fff':\n",
    "            # print(string)\n",
    "            return True\n",
    "\n",
    "    return False\n",
    "source = pd.read_csv('source_all')\n",
    "print(source)\n",
    "# source = source[source['Abstract'].notna()]\n",
    "# print(source)\n",
    "source['Abstract'] = source['Abstract'].map(lambda x: pd.NA if is_chinese(x) == True else x)\n",
    "source = source[source['Abstract'].notna()]\n",
    "# source = source[source['Abstract'].str]\n",
    "print(source)\n",
    "source.to_csv(\"source_all_english\", index=False)\n"
   ]
  },
  {
   "cell_type": "code",
   "execution_count": 13,
   "metadata": {},
   "outputs": [
    {
     "data": {
      "application/vnd.jupyter.widget-view+json": {
       "model_id": "c3780e834e3c48d981c1c6e4b0b3ca66",
       "version_major": 2,
       "version_minor": 0
      },
      "text/plain": [
       "Flattening the indices:   0%|          | 0/2000 [00:00<?, ?ba/s]"
      ]
     },
     "metadata": {},
     "output_type": "display_data"
    },
    {
     "data": {
      "application/vnd.jupyter.widget-view+json": {
       "model_id": "01d613522e03401bbcca11111c4b3705",
       "version_major": 2,
       "version_minor": 0
      },
      "text/plain": [
       "Flattening the indices:   0%|          | 0/200 [00:00<?, ?ba/s]"
      ]
     },
     "metadata": {},
     "output_type": "display_data"
    },
    {
     "name": "stdout",
     "output_type": "stream",
     "text": [
      "DatasetDict({\n",
      "    train: Dataset({\n",
      "        features: ['input_ids', 'attention_mask', 'labels'],\n",
      "        num_rows: 2000000\n",
      "    })\n",
      "    test: Dataset({\n",
      "        features: ['input_ids', 'attention_mask', 'labels'],\n",
      "        num_rows: 200000\n",
      "    })\n",
      "})\n"
     ]
    }
   ],
   "source": [
    "from datasets import load_from_disk\n",
    "\n",
    "t = load_from_disk('../mask_datasets_all')\n",
    "downsampled_dataset = t.train_test_split(\n",
    "        train_size=2000000, test_size=200000, seed=42\n",
    "    )\n",
    "downsampled_dataset.save_to_disk('200w_mask_datasets_all')\n",
    "print(downsampled_dataset)\n",
    "\n"
   ]
  },
  {
   "cell_type": "code",
   "execution_count": 6,
   "metadata": {},
   "outputs": [
    {
     "name": "stderr",
     "output_type": "stream",
     "text": [
      "Token indices sequence length is longer than the specified maximum sequence length for this model (703 > 512). Running this sequence through the model will result in indexing errors\n"
     ]
    },
    {
     "data": {
      "text/plain": [
       "703"
      ]
     },
     "execution_count": 6,
     "metadata": {},
     "output_type": "execute_result"
    }
   ],
   "source": [
    "from transformers import AutoTokenizer\n",
    "import random\n",
    "tokenizer = AutoTokenizer.from_pretrained('roberta-esg-tokenizer')\n",
    "input = ''\n",
    "for i in range(700):\n",
    "    input = input + 'good '\n",
    "len(tokenizer(input)['input_ids'])"
   ]
  },
  {
   "cell_type": "code",
   "execution_count": 18,
   "metadata": {},
   "outputs": [
    {
     "name": "stdout",
     "output_type": "stream",
     "text": [
      "[('a', 2), ('b', 5), ('c', 1)]\n"
     ]
    }
   ],
   "source": [
    "a = {\n",
    "    'a':2,\n",
    "    'b':5,\n",
    "    'c':1\n",
    "}\n",
    "# a.items()\n",
    "print(sorted(a.items(), key = lambda x:x[1],reverse = True))\n"
   ]
  },
  {
   "cell_type": "code",
   "execution_count": 20,
   "metadata": {},
   "outputs": [
    {
     "data": {
      "text/plain": [
       "(-0.5, 399.5, 199.5, -0.5)"
      ]
     },
     "execution_count": 20,
     "metadata": {},
     "output_type": "execute_result"
    },
    {
     "data": {
      "image/png": "[encoded data removed]",
      "text/plain": [
       "<Figure size 640x480 with 1 Axes>"
      ]
     },
     "metadata": {},
     "output_type": "display_data"
    }
   ],
   "source": [
    "#!/usr/bin/env python\n",
    "\"\"\"\n",
    "Minimal Example\n",
    "===============\n",
    "Generating a square wordcloud from the US constitution using default arguments.\n",
    "\"\"\"\n",
    "\n",
    "import os\n",
    "\n",
    "from os import path\n",
    "from wordcloud import WordCloud\n",
    "\n",
    "# get data directory (using getcwd() is needed to support running example in generated IPython notebook)\n",
    "\n",
    "\n",
    "# Read the whole text.\n",
    "# inasd = {('it', 2691), ('report', 2585), ('the', 2551), ('association', 2533), ('company', 2495), ('one', 2478), ('employees', 2466), ('group', 2463), ('policy', 2454), ('operations', 2441), ('us', 2410), ('diversity', 2392), ('all', 2366), ('shareholders', 2352), ('business', 2348), ('meeting', 2330), ('directors', 2327), ('total', 2327), ('information', 2317), ('rights', 2301), ('code', 2296), ('and', 2284), ('conduct', 2275), ('responsibility', 2254), ('foundation', 2252), ('environment', 2247), ('up', 2244), ('inclusion', 2233), ('integrity', 2217), ('status', 2213), ('first', 2213), ('control', 2208), ('commitment', 2202), ('people', 2202), ('no', 2188), ('customers', 2185), ('who', 2182), ('compliance', 2179), ('purpose', 2173), ('safety', 2167), ('management', 2166), ('sustainability', 2166), ('bylaws', 2165), ('society', 2164), ('reporting', 2158), ('st', 2152), ('change', 2150), ('life', 2138), ('capital', 2129), ('board', 2122), ('committee', 2120), ('care', 2120), ('review', 2119), ('as', 2119), ('practices', 2117), ('principles', 2116), ('an', 2116), ('energy', 2110), ('suppliers', 2103), ('development', 2099), ('co', 2091), ('best', 2090), ('director', 2089), ('vision', 2086), ('communities', 2084), ('responsibilities', 2080), ('others', 2069), ('ethics', 2068), ('impact', 2056), ('data', 2055), ('rules', 2050), ('performance', 2039), ('trust', 2032), ('strategy', 2030), ('role', 2027), ('services', 2025), ('this', 2017), ('risks', 2016), ('approach', 2014), ('composition', 2011), ('work', 2011), ('protection', 2011), ('bank', 2002), ('officers', 1992), ('contents', 1991), ('commitments', 1984), ('that', 1982), ('incorporation', 1979), ('action', 1974), ('organization', 1972), ('system', 1972), ('act', 1970), ('corporation', 1964), ('world', 1964), ('charter', 1962), ('statement', 1957), ('lead', 1955), ('equality', 1950), ('shares', 1946)}\n",
    "\n",
    "# Generate a word cloud image\n",
    "wordcloud = WordCloud(width=400).generate_from_frequencies({'a':1000})\n",
    "wordcloud.to_file(\"wordcloud.png\")\n",
    "# Display the generated image:\n",
    "# the matplotlib way:\n",
    "import matplotlib.pyplot as plt\n",
    "plt.imshow(wordcloud, interpolation='bilinear')\n",
    "plt.axis(\"off\")\n",
    "\n",
    "# lower max_font_size\n",
    "# wordcloud = WordCloud(max_font_size=40).generate(text)\n",
    "# plt.figure()\n",
    "# plt.imshow(wordcloud, interpolation=\"bilinear\")\n",
    "# plt.axis(\"off\")\n",
    "# plt.show()\n",
    "\n",
    "# The pil way (if you don't have matplotlib)\n",
    "# image = wordcloud.to_image()\n",
    "# image.show()"
   ]
  },
  {
   "cell_type": "code",
   "execution_count": 21,
   "metadata": {},
   "outputs": [
    {
     "name": "stdout",
     "output_type": "stream",
     "text": [
      "100\n",
      "1407\n"
     ]
    }
   ],
   "source": [
    "# import os\n",
    "# os.environ[\"CUDA_VISIBLE_DEVICES\"] = \"3\"\n",
    "from sklearn.feature_extraction.text import CountVectorizer\n",
    "from transformers import AutoModelForMaskedLM\n",
    "from transformers import AutoTokenizer\n",
    "from transformers import pipeline\n",
    "from keybert import KeyBERT\n",
    "from flair.embeddings import TransformerDocumentEmbeddings\n",
    "import pandas as pd\n",
    "import torch\n",
    "import numpy as np\n",
    "import spacy\n",
    "from wordcloud import WordCloud\n",
    "nlp = spacy.load('en_core_web_sm')\n",
    "\n",
    "def predict(model, tokenizer, source,topk):\n",
    "    print(topk)\n",
    "    TEMPLATES = [\n",
    "        # 'The Keyword is <mask>.',\n",
    "        # 'The keyword is <mask>.',\n",
    "        # 'In summary, the related word is <mask>.',\n",
    "        # 'In summary, the keyword is <mask>.',\n",
    "        # '<mask> is the related word. ',\n",
    "        # '<mask> is the keyphrase. ',\n",
    "        '<mask> is the keyword. ',\n",
    "        # 'In summary, <mask> is the keyphrase. ',\n",
    "        # 'In summary, <mask> is the keyword. ',\n",
    "        # 'In summary, <mask> is the related word. ',\n",
    "        # 'All in all, <mask> is the keyword. ',\n",
    "        # 'All in all, <mask> is the related word. '\n",
    "    ]\n",
    "    average_radio = 0\n",
    "    result = {}\n",
    "    first = 1\n",
    "    for input in source:\n",
    "        # input_list = input.replace(',', '').replace('.', '').split(' ')\n",
    "        # input_list = [s.lower() for s in input_list]\n",
    "        # print(input_list)\n",
    "        # print(print(input))\n",
    "        for T in TEMPLATES:\n",
    "            mask_input = T + input\n",
    "            inputs = tokenizer(\n",
    "                mask_input, return_tensors=\"pt\", truncation=True).to(torch.device('cuda:0'))\n",
    "            # print(inputs)\n",
    "            token_logits = model(**inputs).logits\n",
    "            # Find the location of [MASK] and extract its logits\n",
    "            mask_token_index = torch.where(\n",
    "                inputs[\"input_ids\"] == tokenizer.mask_token_id)[1]\n",
    "            # print(token_logits.shape)\n",
    "            mask_token_logits = token_logits[0, mask_token_index, :]\n",
    "            # Pick the [MASK] candidates with the highest logits\n",
    "            top_tokens = torch.topk(\n",
    "                mask_token_logits, topk, dim=1).indices[0].tolist()\n",
    "            # print(top_tokens)\n",
    "            top_tokens_list = tokenizer.decode(top_tokens).split(' ')\n",
    "            top_tokens_list.pop(0)\n",
    "            top_tokens_list = [s.lower() for s in top_tokens_list]\n",
    "\n",
    "            for token in top_tokens_list:\n",
    "                if token in result.keys():\n",
    "                    result[token] = result[token] + 1\n",
    "                else:\n",
    "                    result[token] = 1\n",
    "            # intersect = set(input_list) & set(top_tokens_list)\n",
    "            # average_radio = average_radio + \\\n",
    "            #     len(intersect)/len(input_list)/len(source)\n",
    "            # print(f\"{T}:intersect:{intersect}, radio is {len(intersect)/len(input_list)}\\n\")\n",
    "            \n",
    "            # print(f\"{T}:{top_tokens_list}\")\n",
    "            \n",
    "            # for doc in nlp.pipe(top_tokens_list):\n",
    "            #     for token in doc:\n",
    "            #         print(token.tag_)\n",
    "            # join_word = ''.join(x + ' ' for x in top_tokens_list)\n",
    "            # classified = ZSC.text_labels(join_word, candidate_labels)\n",
    "            # print(f'template:{T} res:{classified}\\n')\n",
    "            # for token in top_5_tokens:\n",
    "            # print(f\"{T}, keyword is [{tokenizer.decode(top_tokens)}]\")\n",
    "            # res = tokenizer(input)\n",
    "            # output = model(**res)\n",
    "            # print(output)\n",
    "\n",
    "            # preds = mask_filler(mask_input)\n",
    "            # for pred in preds:\n",
    "            #     print(f\">>> {pred['token_str']} >>> score is {pred['score']}\")\n",
    "        # print('\\n\\n==================================================')\n",
    "    # print(f'average:{average_radio}')\n",
    "    print(len(result))\n",
    "    wordcloud = WordCloud(width=1600, height=1600,background_color=\"white\",max_words = 10000).generate_from_frequencies(result)\n",
    "    wordcloud.to_file('wordcloud.png')\n",
    "\n",
    "    # print(f'top-k is {topk}, res is: {sorted(result.items(), key = lambda x:x[1],reverse = True)[:1000]}')\n",
    "    # using key bert\n",
    "    # hf_model = pipeline(\"feature-extraction\", model=model, tokenizer = tokenizer)\n",
    "    # kw_model = KeyBERT(model = hf_model)\n",
    "\n",
    "    # keywords = kw_model.extract_keywords(input, top_n = 100)\n",
    "    # print(keywords)\n",
    "    # print(len(keywords))\n",
    "def test_predict():\n",
    "    esg_tokenizer = AutoTokenizer.from_pretrained('roberta-esg-tokenizer')\n",
    "    # ori_tokenizer = AutoTokenizer.from_pretrained('roberta-large')\n",
    "    source = pd.read_csv('source_all_english', nrows=100000)\n",
    "    source = source[40000:41000]\n",
    "    input = []\n",
    "    input.append(\"Interpublics Directors are elected each year by Interpublics stockholders at the annual meeting of stockholders. Interpublics Corporate Governance Committee recommends nominees to the Board of Directors, and the Board proposes a slate of nominees to the stockholders for election.\")\n",
    "    input.append('To contribute to climate change mitigation, we actively explore opportunities to support local renewable energy generation. Solar panels are installed at Hang Seng 113 to generate renewable energy.')\n",
    "    input = source['Abstract'].tolist()\n",
    "    # model = AutoModelForMaskedLM.from_pretrained(local)\n",
    "    # origin_model = AutoModelForMaskedLM.from_pretrained('roberta-large').to(torch.device('cuda:0'))\n",
    "    random_mask_model = AutoModelForMaskedLM.from_pretrained('esg-roberta-random-model').to(torch.device('cuda:0'))\n",
    "    # predict(origin_model, ori_tokenizer, input)\n",
    "    # for i in range(3):\n",
    "    #     predict(origin_model, ori_tokenizer, input, 100*pow(10,i))\n",
    "        \n",
    "    for i in range(1):\n",
    "        predict(random_mask_model, esg_tokenizer, input, 100*pow(10,i))\n",
    "\n",
    "test_predict()\n",
    "    # predict(model)"
   ]
  },
  {
   "cell_type": "markdown",
   "metadata": {},
   "source": []
  },
  {
   "cell_type": "code",
   "execution_count": null,
   "metadata": {},
   "outputs": [],
   "source": []
  }
 ],
 "metadata": {
  "kernelspec": {
   "display_name": "Python 3.7.3 ('esg-env': venv)",
   "language": "python",
   "name": "python3"
  },
  "language_info": {
   "codemirror_mode": {
    "name": "ipython",
    "version": 3
   },
   "file_extension": ".py",
   "mimetype": "text/x-python",
   "name": "python",
   "nbconvert_exporter": "python",
   "pygments_lexer": "ipython3",
   "version": "3.7.3"
  },
  "orig_nbformat": 4,
  "vscode": {
   "interpreter": {
    "hash": "705f550babcdce45f48d8787f58c81cb6391e873d59f11c8d7074ed5565f0fb2"
   }
  }
 },
 "nbformat": 4,
 "nbformat_minor": 2
}

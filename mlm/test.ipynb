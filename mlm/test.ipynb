{
 "cells": [
  {
   "cell_type": "code",
   "execution_count": 28,
   "metadata": {},
   "outputs": [
    {
     "data": {
      "text/plain": [
       "'I love you-----?'"
      ]
     },
     "execution_count": 28,
     "metadata": {},
     "output_type": "execute_result"
    }
   ],
   "source": [
    "import re\n",
    "t = 'I love you=====-----?'\n",
    "t = re.sub(r\"\\=+\",\"\",t)\n",
    "t"
   ]
  },
  {
   "cell_type": "code",
   "execution_count": 91,
   "metadata": {},
   "outputs": [
    {
     "name": "stdout",
     "output_type": "stream",
     "text": [
      "                                                  Abstract  Label\n",
      "0        Interpublics Directors are elected each year b...    NaN\n",
      "1        Section 3.7. Removal. No director may be remov...    NaN\n",
      "2        14. Equity Share Capital Rupees crores Particu...    NaN\n",
      "3        Company Profile on: Osaka Gas Company Ltd Comp...    NaN\n",
      "4        (d)In advance of any meeting of stockholders, ...    NaN\n",
      "...                                                    ...    ...\n",
      "4565693  Environment, Society, and Governance Enhancing...    NaN\n",
      "4565694  6.2 Training Supplier shall be responsible for...    NaN\n",
      "4565695  Succession Planning and Other Executive Office...    NaN\n",
      "4565696  第四十九条 单独或者合计持有公司 10%以上股份的股东有权向董事会请求召开 临时股东大会，并...    NaN\n",
      "4565697  Partnerships and Initiatives It strikes some o...    NaN\n",
      "\n",
      "[4565698 rows x 2 columns]\n",
      "                                                  Abstract  Label\n",
      "0        Interpublics Directors are elected each year b...    NaN\n",
      "1        Section 3.7. Removal. No director may be remov...    NaN\n",
      "2        14. Equity Share Capital Rupees crores Particu...    NaN\n",
      "3        Company Profile on: Osaka Gas Company Ltd Comp...    NaN\n",
      "4        (d)In advance of any meeting of stockholders, ...    NaN\n",
      "...                                                    ...    ...\n",
      "4565692                      Global Compact Status: Active    NaN\n",
      "4565693  Environment, Society, and Governance Enhancing...    NaN\n",
      "4565694  6.2 Training Supplier shall be responsible for...    NaN\n",
      "4565695  Succession Planning and Other Executive Office...    NaN\n",
      "4565697  Partnerships and Initiatives It strikes some o...    NaN\n",
      "\n",
      "[4518734 rows x 2 columns]\n"
     ]
    }
   ],
   "source": [
    "import pandas as pd\n",
    "def is_chinese(string):\n",
    "    \"\"\"\n",
    "    检查整个字符串是否包含中文\n",
    "    :param string: 需要检查的字符串\n",
    "    :return: bool\n",
    "    \"\"\"\n",
    "    for ch in string:\n",
    "        if u'\\u4e00' <= ch <= u'\\u9fff':\n",
    "            # print(string)\n",
    "            return True\n",
    "\n",
    "    return False\n",
    "source = pd.read_csv('source_all')\n",
    "print(source)\n",
    "# source = source[source['Abstract'].notna()]\n",
    "# print(source)\n",
    "source['Abstract'] = source['Abstract'].map(lambda x: pd.NA if is_chinese(x) == True else x)\n",
    "source = source[source['Abstract'].notna()]\n",
    "# source = source[source['Abstract'].str]\n",
    "print(source)\n",
    "source.to_csv(\"source_all_english\", index=False)\n"
   ]
  },
  {
   "cell_type": "code",
   "execution_count": 6,
   "metadata": {},
   "outputs": [
    {
     "ename": "FileNotFoundError",
     "evalue": "Directory lm_datasets_all/train/dataset.arrow is neither a dataset directory nor a dataset dict directory.",
     "output_type": "error",
     "traceback": [
      "\u001b[0;31m---------------------------------------------------------------------------\u001b[0m",
      "\u001b[0;31mFileNotFoundError\u001b[0m                         Traceback (most recent call last)",
      "\u001b[0;32m/tmp/ipykernel_44047/3624489710.py\u001b[0m in \u001b[0;36m<module>\u001b[0;34m\u001b[0m\n\u001b[1;32m      1\u001b[0m \u001b[0;32mfrom\u001b[0m \u001b[0mdatasets\u001b[0m \u001b[0;32mimport\u001b[0m \u001b[0mload_from_disk\u001b[0m\u001b[0;34m\u001b[0m\u001b[0;34m\u001b[0m\u001b[0m\n\u001b[1;32m      2\u001b[0m \u001b[0;34m\u001b[0m\u001b[0m\n\u001b[0;32m----> 3\u001b[0;31m \u001b[0mt\u001b[0m \u001b[0;34m=\u001b[0m \u001b[0mload_from_disk\u001b[0m\u001b[0;34m(\u001b[0m\u001b[0;34m'lm_datasets_all/train/dataset.arrow'\u001b[0m\u001b[0;34m)\u001b[0m\u001b[0;34m\u001b[0m\u001b[0;34m\u001b[0m\u001b[0m\n\u001b[0m\u001b[1;32m      4\u001b[0m \u001b[0mt\u001b[0m\u001b[0;34m\u001b[0m\u001b[0;34m\u001b[0m\u001b[0m\n\u001b[1;32m      5\u001b[0m \u001b[0;31m# downsampled_dataset = t[\"train\"].train_test_split(\u001b[0m\u001b[0;34m\u001b[0m\u001b[0;34m\u001b[0m\u001b[0;34m\u001b[0m\u001b[0m\n",
      "\u001b[0;32m~/esg-env/lib/python3.7/site-packages/datasets/load.py\u001b[0m in \u001b[0;36mload_from_disk\u001b[0;34m(dataset_path, fs, keep_in_memory)\u001b[0m\n\u001b[1;32m   1761\u001b[0m     \u001b[0;32melse\u001b[0m\u001b[0;34m:\u001b[0m\u001b[0;34m\u001b[0m\u001b[0;34m\u001b[0m\u001b[0m\n\u001b[1;32m   1762\u001b[0m         raise FileNotFoundError(\n\u001b[0;32m-> 1763\u001b[0;31m             \u001b[0;34mf\"Directory {dataset_path} is neither a dataset directory nor a dataset dict directory.\"\u001b[0m\u001b[0;34m\u001b[0m\u001b[0;34m\u001b[0m\u001b[0m\n\u001b[0m\u001b[1;32m   1764\u001b[0m         )\n",
      "\u001b[0;31mFileNotFoundError\u001b[0m: Directory lm_datasets_all/train/dataset.arrow is neither a dataset directory nor a dataset dict directory."
     ]
    }
   ],
   "source": [
    "from datasets import load_from_disk\n",
    "\n",
    "t = load_from_disk('lm_datasets_all')\n",
    "downsampled_dataset = t[\"train\"].train_test_split(\n",
    "        train_size=5000000, test_size=300000, seed=42\n",
    "    )\n",
    "downsampled_dataset.save_to_disk('esg_datasets_all')\n",
    "print(downsampled_dataset)\n",
    "\n"
   ]
  },
  {
   "cell_type": "code",
   "execution_count": null,
   "metadata": {},
   "outputs": [],
   "source": []
  },
  {
   "cell_type": "code",
   "execution_count": null,
   "metadata": {},
   "outputs": [],
   "source": []
  },
  {
   "cell_type": "code",
   "execution_count": null,
   "metadata": {},
   "outputs": [],
   "source": []
  }
 ],
 "metadata": {
  "kernelspec": {
   "display_name": "Python 3.7.3 ('esg-env': venv)",
   "language": "python",
   "name": "python3"
  },
  "language_info": {
   "codemirror_mode": {
    "name": "ipython",
    "version": 3
   },
   "file_extension": ".py",
   "mimetype": "text/x-python",
   "name": "python",
   "nbconvert_exporter": "python",
   "pygments_lexer": "ipython3",
   "version": "3.7.3"
  },
  "orig_nbformat": 4,
  "vscode": {
   "interpreter": {
    "hash": "705f550babcdce45f48d8787f58c81cb6391e873d59f11c8d7074ed5565f0fb2"
   }
  }
 },
 "nbformat": 4,
 "nbformat_minor": 2
}

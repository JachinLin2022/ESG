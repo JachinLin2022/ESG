{
 "cells": [
  {
   "cell_type": "code",
   "execution_count": 18,
   "metadata": {},
   "outputs": [
    {
     "data": {
      "text/plain": [
       "'I love you-----?'"
      ]
     },
     "execution_count": 18,
     "metadata": {},
     "output_type": "execute_result"
    }
   ],
   "source": [
    "import re\n",
    "t = 'I love you=====-----?'\n",
    "t = re.sub(r\"\\=+\",\"\",t)\n",
    "t"
   ]
  },
  {
   "cell_type": "code",
   "execution_count": 19,
   "metadata": {},
   "outputs": [
    {
     "data": {
      "text/html": [
       "<pre style=\"white-space:pre;overflow-x:auto;line-height:normal;font-family:Menlo,'DejaVu Sans Mono',consolas,'Courier New',monospace\"><span style=\"color: #800000; text-decoration-color: #800000\">╭─────────────────────────────── </span><span style=\"color: #800000; text-decoration-color: #800000; font-weight: bold\">Traceback </span><span style=\"color: #bf7f7f; text-decoration-color: #bf7f7f; font-weight: bold\">(most recent call last)</span><span style=\"color: #800000; text-decoration-color: #800000\"> ────────────────────────────────╮</span>\n",
       "<span style=\"color: #800000; text-decoration-color: #800000\">│</span> <span style=\"color: #bfbf7f; text-decoration-color: #bfbf7f\">/tmp/ipykernel_19620/</span><span style=\"color: #808000; text-decoration-color: #808000; font-weight: bold\">1539041146.py</span>:<span style=\"color: #0000ff; text-decoration-color: #0000ff\">14</span> in <span style=\"color: #00ff00; text-decoration-color: #00ff00\">&lt;module&gt;</span>                                                <span style=\"color: #800000; text-decoration-color: #800000\">│</span>\n",
       "<span style=\"color: #800000; text-decoration-color: #800000\">│</span>                                                                                                  <span style=\"color: #800000; text-decoration-color: #800000\">│</span>\n",
       "<span style=\"color: #800000; text-decoration-color: #800000\">│</span> <span style=\"color: #800000; text-decoration-color: #800000; font-style: italic\">[Errno 2] No such file or directory: '/tmp/ipykernel_19620/1539041146.py'</span>                        <span style=\"color: #800000; text-decoration-color: #800000\">│</span>\n",
       "<span style=\"color: #800000; text-decoration-color: #800000\">│</span>                                                                                                  <span style=\"color: #800000; text-decoration-color: #800000\">│</span>\n",
       "<span style=\"color: #800000; text-decoration-color: #800000\">│</span> <span style=\"color: #bfbf7f; text-decoration-color: #bfbf7f\">/home/linzhisheng/esg-env/lib/python3.7/site-packages/pandas/io/</span><span style=\"color: #808000; text-decoration-color: #808000; font-weight: bold\">parsers.py</span>:<span style=\"color: #0000ff; text-decoration-color: #0000ff\">688</span> in <span style=\"color: #00ff00; text-decoration-color: #00ff00\">read_csv</span>       <span style=\"color: #800000; text-decoration-color: #800000\">│</span>\n",
       "<span style=\"color: #800000; text-decoration-color: #800000\">│</span>                                                                                                  <span style=\"color: #800000; text-decoration-color: #800000\">│</span>\n",
       "<span style=\"color: #800000; text-decoration-color: #800000\">│</span>   <span style=\"color: #7f7f7f; text-decoration-color: #7f7f7f\"> 685 │   │   </span>skip_blank_lines=skip_blank_lines,                                                <span style=\"color: #800000; text-decoration-color: #800000\">│</span>\n",
       "<span style=\"color: #800000; text-decoration-color: #800000\">│</span>   <span style=\"color: #7f7f7f; text-decoration-color: #7f7f7f\"> 686 │   </span>)                                                                                     <span style=\"color: #800000; text-decoration-color: #800000\">│</span>\n",
       "<span style=\"color: #800000; text-decoration-color: #800000\">│</span>   <span style=\"color: #7f7f7f; text-decoration-color: #7f7f7f\"> 687 │   </span>                                                                                      <span style=\"color: #800000; text-decoration-color: #800000\">│</span>\n",
       "<span style=\"color: #800000; text-decoration-color: #800000\">│</span> <span style=\"color: #800000; text-decoration-color: #800000\">❱ </span> 688 <span style=\"color: #7f7f7f; text-decoration-color: #7f7f7f\">│   </span><span style=\"color: #0000ff; text-decoration-color: #0000ff\">return</span> _read(filepath_or_buffer, kwds)                                                <span style=\"color: #800000; text-decoration-color: #800000\">│</span>\n",
       "<span style=\"color: #800000; text-decoration-color: #800000\">│</span>   <span style=\"color: #7f7f7f; text-decoration-color: #7f7f7f\"> 689 </span>                                                                                          <span style=\"color: #800000; text-decoration-color: #800000\">│</span>\n",
       "<span style=\"color: #800000; text-decoration-color: #800000\">│</span>   <span style=\"color: #7f7f7f; text-decoration-color: #7f7f7f\"> 690 </span>                                                                                          <span style=\"color: #800000; text-decoration-color: #800000\">│</span>\n",
       "<span style=\"color: #800000; text-decoration-color: #800000\">│</span>   <span style=\"color: #7f7f7f; text-decoration-color: #7f7f7f\"> 691 </span><span style=\"color: #ff00ff; text-decoration-color: #ff00ff; font-weight: bold\">@Appender</span>(                                                                                <span style=\"color: #800000; text-decoration-color: #800000\">│</span>\n",
       "<span style=\"color: #800000; text-decoration-color: #800000\">│</span>                                                                                                  <span style=\"color: #800000; text-decoration-color: #800000\">│</span>\n",
       "<span style=\"color: #800000; text-decoration-color: #800000\">│</span> <span style=\"color: #bfbf7f; text-decoration-color: #bfbf7f\">/home/linzhisheng/esg-env/lib/python3.7/site-packages/pandas/io/</span><span style=\"color: #808000; text-decoration-color: #808000; font-weight: bold\">parsers.py</span>:<span style=\"color: #0000ff; text-decoration-color: #0000ff\">460</span> in <span style=\"color: #00ff00; text-decoration-color: #00ff00\">_read</span>          <span style=\"color: #800000; text-decoration-color: #800000\">│</span>\n",
       "<span style=\"color: #800000; text-decoration-color: #800000\">│</span>                                                                                                  <span style=\"color: #800000; text-decoration-color: #800000\">│</span>\n",
       "<span style=\"color: #800000; text-decoration-color: #800000\">│</span>   <span style=\"color: #7f7f7f; text-decoration-color: #7f7f7f\"> 457 │   │   </span><span style=\"color: #0000ff; text-decoration-color: #0000ff\">return</span> parser                                                                     <span style=\"color: #800000; text-decoration-color: #800000\">│</span>\n",
       "<span style=\"color: #800000; text-decoration-color: #800000\">│</span>   <span style=\"color: #7f7f7f; text-decoration-color: #7f7f7f\"> 458 │   </span>                                                                                      <span style=\"color: #800000; text-decoration-color: #800000\">│</span>\n",
       "<span style=\"color: #800000; text-decoration-color: #800000\">│</span>   <span style=\"color: #7f7f7f; text-decoration-color: #7f7f7f\"> 459 │   </span><span style=\"color: #0000ff; text-decoration-color: #0000ff\">try</span>:                                                                                  <span style=\"color: #800000; text-decoration-color: #800000\">│</span>\n",
       "<span style=\"color: #800000; text-decoration-color: #800000\">│</span> <span style=\"color: #800000; text-decoration-color: #800000\">❱ </span> 460 <span style=\"color: #7f7f7f; text-decoration-color: #7f7f7f\">│   │   </span>data = parser.read(nrows)                                                         <span style=\"color: #800000; text-decoration-color: #800000\">│</span>\n",
       "<span style=\"color: #800000; text-decoration-color: #800000\">│</span>   <span style=\"color: #7f7f7f; text-decoration-color: #7f7f7f\"> 461 │   </span><span style=\"color: #0000ff; text-decoration-color: #0000ff\">finally</span>:                                                                              <span style=\"color: #800000; text-decoration-color: #800000\">│</span>\n",
       "<span style=\"color: #800000; text-decoration-color: #800000\">│</span>   <span style=\"color: #7f7f7f; text-decoration-color: #7f7f7f\"> 462 │   │   </span>parser.close()                                                                    <span style=\"color: #800000; text-decoration-color: #800000\">│</span>\n",
       "<span style=\"color: #800000; text-decoration-color: #800000\">│</span>   <span style=\"color: #7f7f7f; text-decoration-color: #7f7f7f\"> 463 </span>                                                                                          <span style=\"color: #800000; text-decoration-color: #800000\">│</span>\n",
       "<span style=\"color: #800000; text-decoration-color: #800000\">│</span>                                                                                                  <span style=\"color: #800000; text-decoration-color: #800000\">│</span>\n",
       "<span style=\"color: #800000; text-decoration-color: #800000\">│</span> <span style=\"color: #bfbf7f; text-decoration-color: #bfbf7f\">/home/linzhisheng/esg-env/lib/python3.7/site-packages/pandas/io/</span><span style=\"color: #808000; text-decoration-color: #808000; font-weight: bold\">parsers.py</span>:<span style=\"color: #0000ff; text-decoration-color: #0000ff\">1198</span> in <span style=\"color: #00ff00; text-decoration-color: #00ff00\">read</span>          <span style=\"color: #800000; text-decoration-color: #800000\">│</span>\n",
       "<span style=\"color: #800000; text-decoration-color: #800000\">│</span>                                                                                                  <span style=\"color: #800000; text-decoration-color: #800000\">│</span>\n",
       "<span style=\"color: #800000; text-decoration-color: #800000\">│</span>   <span style=\"color: #7f7f7f; text-decoration-color: #7f7f7f\">1195 │   </span>                                                                                      <span style=\"color: #800000; text-decoration-color: #800000\">│</span>\n",
       "<span style=\"color: #800000; text-decoration-color: #800000\">│</span>   <span style=\"color: #7f7f7f; text-decoration-color: #7f7f7f\">1196 │   </span><span style=\"color: #0000ff; text-decoration-color: #0000ff\">def</span> <span style=\"color: #00ff00; text-decoration-color: #00ff00\">read</span>(<span style=\"color: #00ffff; text-decoration-color: #00ffff\">self</span>, nrows=<span style=\"color: #0000ff; text-decoration-color: #0000ff\">None</span>):                                                           <span style=\"color: #800000; text-decoration-color: #800000\">│</span>\n",
       "<span style=\"color: #800000; text-decoration-color: #800000\">│</span>   <span style=\"color: #7f7f7f; text-decoration-color: #7f7f7f\">1197 │   │   </span>nrows = _validate_integer(<span style=\"color: #808000; text-decoration-color: #808000\">\"nrows\"</span>, nrows)                                         <span style=\"color: #800000; text-decoration-color: #800000\">│</span>\n",
       "<span style=\"color: #800000; text-decoration-color: #800000\">│</span> <span style=\"color: #800000; text-decoration-color: #800000\">❱ </span>1198 <span style=\"color: #7f7f7f; text-decoration-color: #7f7f7f\">│   │   </span>ret = <span style=\"color: #00ffff; text-decoration-color: #00ffff\">self</span>._engine.read(nrows)                                                    <span style=\"color: #800000; text-decoration-color: #800000\">│</span>\n",
       "<span style=\"color: #800000; text-decoration-color: #800000\">│</span>   <span style=\"color: #7f7f7f; text-decoration-color: #7f7f7f\">1199 │   │   </span>                                                                                  <span style=\"color: #800000; text-decoration-color: #800000\">│</span>\n",
       "<span style=\"color: #800000; text-decoration-color: #800000\">│</span>   <span style=\"color: #7f7f7f; text-decoration-color: #7f7f7f\">1200 │   │   # May alter columns / col_dict</span>                                                    <span style=\"color: #800000; text-decoration-color: #800000\">│</span>\n",
       "<span style=\"color: #800000; text-decoration-color: #800000\">│</span>   <span style=\"color: #7f7f7f; text-decoration-color: #7f7f7f\">1201 │   │   </span>index, columns, col_dict = <span style=\"color: #00ffff; text-decoration-color: #00ffff\">self</span>._create_index(ret)                                <span style=\"color: #800000; text-decoration-color: #800000\">│</span>\n",
       "<span style=\"color: #800000; text-decoration-color: #800000\">│</span>                                                                                                  <span style=\"color: #800000; text-decoration-color: #800000\">│</span>\n",
       "<span style=\"color: #800000; text-decoration-color: #800000\">│</span> <span style=\"color: #bfbf7f; text-decoration-color: #bfbf7f\">/home/linzhisheng/esg-env/lib/python3.7/site-packages/pandas/io/</span><span style=\"color: #808000; text-decoration-color: #808000; font-weight: bold\">parsers.py</span>:<span style=\"color: #0000ff; text-decoration-color: #0000ff\">2157</span> in <span style=\"color: #00ff00; text-decoration-color: #00ff00\">read</span>          <span style=\"color: #800000; text-decoration-color: #800000\">│</span>\n",
       "<span style=\"color: #800000; text-decoration-color: #800000\">│</span>                                                                                                  <span style=\"color: #800000; text-decoration-color: #800000\">│</span>\n",
       "<span style=\"color: #800000; text-decoration-color: #800000\">│</span>   <span style=\"color: #7f7f7f; text-decoration-color: #7f7f7f\">2154 │   </span>                                                                                      <span style=\"color: #800000; text-decoration-color: #800000\">│</span>\n",
       "<span style=\"color: #800000; text-decoration-color: #800000\">│</span>   <span style=\"color: #7f7f7f; text-decoration-color: #7f7f7f\">2155 │   </span><span style=\"color: #0000ff; text-decoration-color: #0000ff\">def</span> <span style=\"color: #00ff00; text-decoration-color: #00ff00\">read</span>(<span style=\"color: #00ffff; text-decoration-color: #00ffff\">self</span>, nrows=<span style=\"color: #0000ff; text-decoration-color: #0000ff\">None</span>):                                                           <span style=\"color: #800000; text-decoration-color: #800000\">│</span>\n",
       "<span style=\"color: #800000; text-decoration-color: #800000\">│</span>   <span style=\"color: #7f7f7f; text-decoration-color: #7f7f7f\">2156 │   │   </span><span style=\"color: #0000ff; text-decoration-color: #0000ff\">try</span>:                                                                              <span style=\"color: #800000; text-decoration-color: #800000\">│</span>\n",
       "<span style=\"color: #800000; text-decoration-color: #800000\">│</span> <span style=\"color: #800000; text-decoration-color: #800000\">❱ </span>2157 <span style=\"color: #7f7f7f; text-decoration-color: #7f7f7f\">│   │   │   </span>data = <span style=\"color: #00ffff; text-decoration-color: #00ffff\">self</span>._reader.read(nrows)                                               <span style=\"color: #800000; text-decoration-color: #800000\">│</span>\n",
       "<span style=\"color: #800000; text-decoration-color: #800000\">│</span>   <span style=\"color: #7f7f7f; text-decoration-color: #7f7f7f\">2158 │   │   </span><span style=\"color: #0000ff; text-decoration-color: #0000ff\">except</span> <span style=\"color: #00ffff; text-decoration-color: #00ffff\">StopIteration</span>:                                                             <span style=\"color: #800000; text-decoration-color: #800000\">│</span>\n",
       "<span style=\"color: #800000; text-decoration-color: #800000\">│</span>   <span style=\"color: #7f7f7f; text-decoration-color: #7f7f7f\">2159 │   │   │   </span><span style=\"color: #0000ff; text-decoration-color: #0000ff\">if</span> <span style=\"color: #00ffff; text-decoration-color: #00ffff\">self</span>._first_chunk:                                                         <span style=\"color: #800000; text-decoration-color: #800000\">│</span>\n",
       "<span style=\"color: #800000; text-decoration-color: #800000\">│</span>   <span style=\"color: #7f7f7f; text-decoration-color: #7f7f7f\">2160 │   │   │   │   </span><span style=\"color: #00ffff; text-decoration-color: #00ffff\">self</span>._first_chunk = <span style=\"color: #0000ff; text-decoration-color: #0000ff\">False</span>                                                 <span style=\"color: #800000; text-decoration-color: #800000\">│</span>\n",
       "<span style=\"color: #800000; text-decoration-color: #800000\">│</span>                                                                                                  <span style=\"color: #800000; text-decoration-color: #800000\">│</span>\n",
       "<span style=\"color: #800000; text-decoration-color: #800000\">│</span> <span style=\"color: #bfbf7f; text-decoration-color: #bfbf7f\">/home/linzhisheng/esg/mlm/pandas/_libs/</span><span style=\"color: #808000; text-decoration-color: #808000; font-weight: bold\">parsers.pyx</span>:<span style=\"color: #0000ff; text-decoration-color: #0000ff\">847</span> in <span style=\"color: #00ff00; text-decoration-color: #00ff00\">pandas._libs.parsers.TextReader.read</span>   <span style=\"color: #800000; text-decoration-color: #800000\">│</span>\n",
       "<span style=\"color: #800000; text-decoration-color: #800000\">│</span>                                                                                                  <span style=\"color: #800000; text-decoration-color: #800000\">│</span>\n",
       "<span style=\"color: #800000; text-decoration-color: #800000\">│</span> <span style=\"color: #800000; text-decoration-color: #800000; font-style: italic\">[Errno 2] No such file or directory: '/home/linzhisheng/esg/mlm/pandas/_libs/parsers.pyx'</span>        <span style=\"color: #800000; text-decoration-color: #800000\">│</span>\n",
       "<span style=\"color: #800000; text-decoration-color: #800000\">│</span>                                                                                                  <span style=\"color: #800000; text-decoration-color: #800000\">│</span>\n",
       "<span style=\"color: #800000; text-decoration-color: #800000\">│</span> <span style=\"color: #bfbf7f; text-decoration-color: #bfbf7f\">/home/linzhisheng/esg/mlm/pandas/_libs/</span><span style=\"color: #808000; text-decoration-color: #808000; font-weight: bold\">parsers.pyx</span>:<span style=\"color: #0000ff; text-decoration-color: #0000ff\">862</span> in                                        <span style=\"color: #800000; text-decoration-color: #800000\">│</span>\n",
       "<span style=\"color: #800000; text-decoration-color: #800000\">│</span> <span style=\"color: #00ff00; text-decoration-color: #00ff00\">pandas._libs.parsers.TextReader._read_low_memory</span>                                                 <span style=\"color: #800000; text-decoration-color: #800000\">│</span>\n",
       "<span style=\"color: #800000; text-decoration-color: #800000\">│</span>                                                                                                  <span style=\"color: #800000; text-decoration-color: #800000\">│</span>\n",
       "<span style=\"color: #800000; text-decoration-color: #800000\">│</span> <span style=\"color: #800000; text-decoration-color: #800000; font-style: italic\">[Errno 2] No such file or directory: '/home/linzhisheng/esg/mlm/pandas/_libs/parsers.pyx'</span>        <span style=\"color: #800000; text-decoration-color: #800000\">│</span>\n",
       "<span style=\"color: #800000; text-decoration-color: #800000\">│</span>                                                                                                  <span style=\"color: #800000; text-decoration-color: #800000\">│</span>\n",
       "<span style=\"color: #800000; text-decoration-color: #800000\">│</span> <span style=\"color: #bfbf7f; text-decoration-color: #bfbf7f\">/home/linzhisheng/esg/mlm/pandas/_libs/</span><span style=\"color: #808000; text-decoration-color: #808000; font-weight: bold\">parsers.pyx</span>:<span style=\"color: #0000ff; text-decoration-color: #0000ff\">941</span> in                                        <span style=\"color: #800000; text-decoration-color: #800000\">│</span>\n",
       "<span style=\"color: #800000; text-decoration-color: #800000\">│</span> <span style=\"color: #00ff00; text-decoration-color: #00ff00\">pandas._libs.parsers.TextReader._read_rows</span>                                                       <span style=\"color: #800000; text-decoration-color: #800000\">│</span>\n",
       "<span style=\"color: #800000; text-decoration-color: #800000\">│</span>                                                                                                  <span style=\"color: #800000; text-decoration-color: #800000\">│</span>\n",
       "<span style=\"color: #800000; text-decoration-color: #800000\">│</span> <span style=\"color: #800000; text-decoration-color: #800000; font-style: italic\">[Errno 2] No such file or directory: '/home/linzhisheng/esg/mlm/pandas/_libs/parsers.pyx'</span>        <span style=\"color: #800000; text-decoration-color: #800000\">│</span>\n",
       "<span style=\"color: #800000; text-decoration-color: #800000\">│</span>                                                                                                  <span style=\"color: #800000; text-decoration-color: #800000\">│</span>\n",
       "<span style=\"color: #800000; text-decoration-color: #800000\">│</span> <span style=\"color: #bfbf7f; text-decoration-color: #bfbf7f\">/home/linzhisheng/esg/mlm/pandas/_libs/</span><span style=\"color: #808000; text-decoration-color: #808000; font-weight: bold\">parsers.pyx</span>:<span style=\"color: #0000ff; text-decoration-color: #0000ff\">1073</span> in                                       <span style=\"color: #800000; text-decoration-color: #800000\">│</span>\n",
       "<span style=\"color: #800000; text-decoration-color: #800000\">│</span> <span style=\"color: #00ff00; text-decoration-color: #00ff00\">pandas._libs.parsers.TextReader._convert_column_data</span>                                             <span style=\"color: #800000; text-decoration-color: #800000\">│</span>\n",
       "<span style=\"color: #800000; text-decoration-color: #800000\">│</span>                                                                                                  <span style=\"color: #800000; text-decoration-color: #800000\">│</span>\n",
       "<span style=\"color: #800000; text-decoration-color: #800000\">│</span> <span style=\"color: #800000; text-decoration-color: #800000; font-style: italic\">[Errno 2] No such file or directory: '/home/linzhisheng/esg/mlm/pandas/_libs/parsers.pyx'</span>        <span style=\"color: #800000; text-decoration-color: #800000\">│</span>\n",
       "<span style=\"color: #800000; text-decoration-color: #800000\">│</span>                                                                                                  <span style=\"color: #800000; text-decoration-color: #800000\">│</span>\n",
       "<span style=\"color: #800000; text-decoration-color: #800000\">│</span> <span style=\"color: #bfbf7f; text-decoration-color: #bfbf7f\">/home/linzhisheng/esg/mlm/pandas/_libs/</span><span style=\"color: #808000; text-decoration-color: #808000; font-weight: bold\">parsers.pyx</span>:<span style=\"color: #0000ff; text-decoration-color: #0000ff\">1119</span> in                                       <span style=\"color: #800000; text-decoration-color: #800000\">│</span>\n",
       "<span style=\"color: #800000; text-decoration-color: #800000\">│</span> <span style=\"color: #00ff00; text-decoration-color: #00ff00\">pandas._libs.parsers.TextReader._convert_tokens</span>                                                  <span style=\"color: #800000; text-decoration-color: #800000\">│</span>\n",
       "<span style=\"color: #800000; text-decoration-color: #800000\">│</span>                                                                                                  <span style=\"color: #800000; text-decoration-color: #800000\">│</span>\n",
       "<span style=\"color: #800000; text-decoration-color: #800000\">│</span> <span style=\"color: #800000; text-decoration-color: #800000; font-style: italic\">[Errno 2] No such file or directory: '/home/linzhisheng/esg/mlm/pandas/_libs/parsers.pyx'</span>        <span style=\"color: #800000; text-decoration-color: #800000\">│</span>\n",
       "<span style=\"color: #800000; text-decoration-color: #800000\">│</span>                                                                                                  <span style=\"color: #800000; text-decoration-color: #800000\">│</span>\n",
       "<span style=\"color: #800000; text-decoration-color: #800000\">│</span> <span style=\"color: #bfbf7f; text-decoration-color: #bfbf7f\">/home/linzhisheng/esg/mlm/pandas/_libs/</span><span style=\"color: #808000; text-decoration-color: #808000; font-weight: bold\">parsers.pyx</span>:<span style=\"color: #0000ff; text-decoration-color: #0000ff\">1162</span> in                                       <span style=\"color: #800000; text-decoration-color: #800000\">│</span>\n",
       "<span style=\"color: #800000; text-decoration-color: #800000\">│</span> <span style=\"color: #00ff00; text-decoration-color: #00ff00\">pandas._libs.parsers.TextReader._convert_with_dtype</span>                                              <span style=\"color: #800000; text-decoration-color: #800000\">│</span>\n",
       "<span style=\"color: #800000; text-decoration-color: #800000\">│</span>                                                                                                  <span style=\"color: #800000; text-decoration-color: #800000\">│</span>\n",
       "<span style=\"color: #800000; text-decoration-color: #800000\">│</span> <span style=\"color: #800000; text-decoration-color: #800000; font-style: italic\">[Errno 2] No such file or directory: '/home/linzhisheng/esg/mlm/pandas/_libs/parsers.pyx'</span>        <span style=\"color: #800000; text-decoration-color: #800000\">│</span>\n",
       "<span style=\"color: #800000; text-decoration-color: #800000\">│</span>                                                                                                  <span style=\"color: #800000; text-decoration-color: #800000\">│</span>\n",
       "<span style=\"color: #800000; text-decoration-color: #800000\">│</span> <span style=\"color: #bfbf7f; text-decoration-color: #bfbf7f\">/home/linzhisheng/esg-env/lib/python3.7/site-packages/pandas/core/dtypes/</span><span style=\"color: #808000; text-decoration-color: #808000; font-weight: bold\">common.py</span>:<span style=\"color: #0000ff; text-decoration-color: #0000ff\">530</span> in        <span style=\"color: #800000; text-decoration-color: #800000\">│</span>\n",
       "<span style=\"color: #800000; text-decoration-color: #800000\">│</span> <span style=\"color: #00ff00; text-decoration-color: #00ff00\">is_categorical_dtype</span>                                                                             <span style=\"color: #800000; text-decoration-color: #800000\">│</span>\n",
       "<span style=\"color: #800000; text-decoration-color: #800000\">│</span>                                                                                                  <span style=\"color: #800000; text-decoration-color: #800000\">│</span>\n",
       "<span style=\"color: #800000; text-decoration-color: #800000\">│</span>   <span style=\"color: #7f7f7f; text-decoration-color: #7f7f7f\"> 527 │   </span><span style=\"color: #0000ff; text-decoration-color: #0000ff\">return</span> IntervalDtype.is_dtype(arr_or_dtype)                                           <span style=\"color: #800000; text-decoration-color: #800000\">│</span>\n",
       "<span style=\"color: #800000; text-decoration-color: #800000\">│</span>   <span style=\"color: #7f7f7f; text-decoration-color: #7f7f7f\"> 528 </span>                                                                                          <span style=\"color: #800000; text-decoration-color: #800000\">│</span>\n",
       "<span style=\"color: #800000; text-decoration-color: #800000\">│</span>   <span style=\"color: #7f7f7f; text-decoration-color: #7f7f7f\"> 529 </span>                                                                                          <span style=\"color: #800000; text-decoration-color: #800000\">│</span>\n",
       "<span style=\"color: #800000; text-decoration-color: #800000\">│</span> <span style=\"color: #800000; text-decoration-color: #800000\">❱ </span> 530 <span style=\"color: #0000ff; text-decoration-color: #0000ff\">def</span> <span style=\"color: #00ff00; text-decoration-color: #00ff00\">is_categorical_dtype</span>(arr_or_dtype) -&gt; <span style=\"color: #00ffff; text-decoration-color: #00ffff\">bool</span>:                                           <span style=\"color: #800000; text-decoration-color: #800000\">│</span>\n",
       "<span style=\"color: #800000; text-decoration-color: #800000\">│</span>   <span style=\"color: #7f7f7f; text-decoration-color: #7f7f7f\"> 531 │   </span><span style=\"color: #808000; text-decoration-color: #808000\">\"\"\"</span>                                                                                   <span style=\"color: #800000; text-decoration-color: #800000\">│</span>\n",
       "<span style=\"color: #800000; text-decoration-color: #800000\">│</span>   <span style=\"color: #7f7f7f; text-decoration-color: #7f7f7f\"> 532 </span><span style=\"color: #bfbf7f; text-decoration-color: #bfbf7f\">│   </span><span style=\"color: #808000; text-decoration-color: #808000\">Check whether an array-like or dtype is of the Categorical dtype.</span>                     <span style=\"color: #800000; text-decoration-color: #800000\">│</span>\n",
       "<span style=\"color: #800000; text-decoration-color: #800000\">│</span>   <span style=\"color: #7f7f7f; text-decoration-color: #7f7f7f\"> 533 </span>                                                                                          <span style=\"color: #800000; text-decoration-color: #800000\">│</span>\n",
       "<span style=\"color: #800000; text-decoration-color: #800000\">╰──────────────────────────────────────────────────────────────────────────────────────────────────╯</span>\n",
       "<span style=\"color: #ff0000; text-decoration-color: #ff0000; font-weight: bold\">KeyboardInterrupt</span>\n",
       "</pre>\n"
      ],
      "text/plain": [
       "\u001b[31m╭─\u001b[0m\u001b[31m──────────────────────────────\u001b[0m\u001b[31m \u001b[0m\u001b[1;31mTraceback \u001b[0m\u001b[1;2;31m(most recent call last)\u001b[0m\u001b[31m \u001b[0m\u001b[31m───────────────────────────────\u001b[0m\u001b[31m─╮\u001b[0m\n",
       "\u001b[31m│\u001b[0m \u001b[2;33m/tmp/ipykernel_19620/\u001b[0m\u001b[1;33m1539041146.py\u001b[0m:\u001b[94m14\u001b[0m in \u001b[92m<module>\u001b[0m                                                \u001b[31m│\u001b[0m\n",
       "\u001b[31m│\u001b[0m                                                                                                  \u001b[31m│\u001b[0m\n",
       "\u001b[31m│\u001b[0m \u001b[3;31m[Errno 2] No such file or directory: '/tmp/ipykernel_19620/1539041146.py'\u001b[0m                        \u001b[31m│\u001b[0m\n",
       "\u001b[31m│\u001b[0m                                                                                                  \u001b[31m│\u001b[0m\n",
       "\u001b[31m│\u001b[0m \u001b[2;33m/home/linzhisheng/esg-env/lib/python3.7/site-packages/pandas/io/\u001b[0m\u001b[1;33mparsers.py\u001b[0m:\u001b[94m688\u001b[0m in \u001b[92mread_csv\u001b[0m       \u001b[31m│\u001b[0m\n",
       "\u001b[31m│\u001b[0m                                                                                                  \u001b[31m│\u001b[0m\n",
       "\u001b[31m│\u001b[0m   \u001b[2m 685 \u001b[0m\u001b[2m│   │   \u001b[0mskip_blank_lines=skip_blank_lines,                                                \u001b[31m│\u001b[0m\n",
       "\u001b[31m│\u001b[0m   \u001b[2m 686 \u001b[0m\u001b[2m│   \u001b[0m)                                                                                     \u001b[31m│\u001b[0m\n",
       "\u001b[31m│\u001b[0m   \u001b[2m 687 \u001b[0m\u001b[2m│   \u001b[0m                                                                                      \u001b[31m│\u001b[0m\n",
       "\u001b[31m│\u001b[0m \u001b[31m❱ \u001b[0m 688 \u001b[2m│   \u001b[0m\u001b[94mreturn\u001b[0m _read(filepath_or_buffer, kwds)                                                \u001b[31m│\u001b[0m\n",
       "\u001b[31m│\u001b[0m   \u001b[2m 689 \u001b[0m                                                                                          \u001b[31m│\u001b[0m\n",
       "\u001b[31m│\u001b[0m   \u001b[2m 690 \u001b[0m                                                                                          \u001b[31m│\u001b[0m\n",
       "\u001b[31m│\u001b[0m   \u001b[2m 691 \u001b[0m\u001b[1;95m@Appender\u001b[0m(                                                                                \u001b[31m│\u001b[0m\n",
       "\u001b[31m│\u001b[0m                                                                                                  \u001b[31m│\u001b[0m\n",
       "\u001b[31m│\u001b[0m \u001b[2;33m/home/linzhisheng/esg-env/lib/python3.7/site-packages/pandas/io/\u001b[0m\u001b[1;33mparsers.py\u001b[0m:\u001b[94m460\u001b[0m in \u001b[92m_read\u001b[0m          \u001b[31m│\u001b[0m\n",
       "\u001b[31m│\u001b[0m                                                                                                  \u001b[31m│\u001b[0m\n",
       "\u001b[31m│\u001b[0m   \u001b[2m 457 \u001b[0m\u001b[2m│   │   \u001b[0m\u001b[94mreturn\u001b[0m parser                                                                     \u001b[31m│\u001b[0m\n",
       "\u001b[31m│\u001b[0m   \u001b[2m 458 \u001b[0m\u001b[2m│   \u001b[0m                                                                                      \u001b[31m│\u001b[0m\n",
       "\u001b[31m│\u001b[0m   \u001b[2m 459 \u001b[0m\u001b[2m│   \u001b[0m\u001b[94mtry\u001b[0m:                                                                                  \u001b[31m│\u001b[0m\n",
       "\u001b[31m│\u001b[0m \u001b[31m❱ \u001b[0m 460 \u001b[2m│   │   \u001b[0mdata = parser.read(nrows)                                                         \u001b[31m│\u001b[0m\n",
       "\u001b[31m│\u001b[0m   \u001b[2m 461 \u001b[0m\u001b[2m│   \u001b[0m\u001b[94mfinally\u001b[0m:                                                                              \u001b[31m│\u001b[0m\n",
       "\u001b[31m│\u001b[0m   \u001b[2m 462 \u001b[0m\u001b[2m│   │   \u001b[0mparser.close()                                                                    \u001b[31m│\u001b[0m\n",
       "\u001b[31m│\u001b[0m   \u001b[2m 463 \u001b[0m                                                                                          \u001b[31m│\u001b[0m\n",
       "\u001b[31m│\u001b[0m                                                                                                  \u001b[31m│\u001b[0m\n",
       "\u001b[31m│\u001b[0m \u001b[2;33m/home/linzhisheng/esg-env/lib/python3.7/site-packages/pandas/io/\u001b[0m\u001b[1;33mparsers.py\u001b[0m:\u001b[94m1198\u001b[0m in \u001b[92mread\u001b[0m          \u001b[31m│\u001b[0m\n",
       "\u001b[31m│\u001b[0m                                                                                                  \u001b[31m│\u001b[0m\n",
       "\u001b[31m│\u001b[0m   \u001b[2m1195 \u001b[0m\u001b[2m│   \u001b[0m                                                                                      \u001b[31m│\u001b[0m\n",
       "\u001b[31m│\u001b[0m   \u001b[2m1196 \u001b[0m\u001b[2m│   \u001b[0m\u001b[94mdef\u001b[0m \u001b[92mread\u001b[0m(\u001b[96mself\u001b[0m, nrows=\u001b[94mNone\u001b[0m):                                                           \u001b[31m│\u001b[0m\n",
       "\u001b[31m│\u001b[0m   \u001b[2m1197 \u001b[0m\u001b[2m│   │   \u001b[0mnrows = _validate_integer(\u001b[33m\"\u001b[0m\u001b[33mnrows\u001b[0m\u001b[33m\"\u001b[0m, nrows)                                         \u001b[31m│\u001b[0m\n",
       "\u001b[31m│\u001b[0m \u001b[31m❱ \u001b[0m1198 \u001b[2m│   │   \u001b[0mret = \u001b[96mself\u001b[0m._engine.read(nrows)                                                    \u001b[31m│\u001b[0m\n",
       "\u001b[31m│\u001b[0m   \u001b[2m1199 \u001b[0m\u001b[2m│   │   \u001b[0m                                                                                  \u001b[31m│\u001b[0m\n",
       "\u001b[31m│\u001b[0m   \u001b[2m1200 \u001b[0m\u001b[2m│   │   \u001b[0m\u001b[2m# May alter columns / col_dict\u001b[0m                                                    \u001b[31m│\u001b[0m\n",
       "\u001b[31m│\u001b[0m   \u001b[2m1201 \u001b[0m\u001b[2m│   │   \u001b[0mindex, columns, col_dict = \u001b[96mself\u001b[0m._create_index(ret)                                \u001b[31m│\u001b[0m\n",
       "\u001b[31m│\u001b[0m                                                                                                  \u001b[31m│\u001b[0m\n",
       "\u001b[31m│\u001b[0m \u001b[2;33m/home/linzhisheng/esg-env/lib/python3.7/site-packages/pandas/io/\u001b[0m\u001b[1;33mparsers.py\u001b[0m:\u001b[94m2157\u001b[0m in \u001b[92mread\u001b[0m          \u001b[31m│\u001b[0m\n",
       "\u001b[31m│\u001b[0m                                                                                                  \u001b[31m│\u001b[0m\n",
       "\u001b[31m│\u001b[0m   \u001b[2m2154 \u001b[0m\u001b[2m│   \u001b[0m                                                                                      \u001b[31m│\u001b[0m\n",
       "\u001b[31m│\u001b[0m   \u001b[2m2155 \u001b[0m\u001b[2m│   \u001b[0m\u001b[94mdef\u001b[0m \u001b[92mread\u001b[0m(\u001b[96mself\u001b[0m, nrows=\u001b[94mNone\u001b[0m):                                                           \u001b[31m│\u001b[0m\n",
       "\u001b[31m│\u001b[0m   \u001b[2m2156 \u001b[0m\u001b[2m│   │   \u001b[0m\u001b[94mtry\u001b[0m:                                                                              \u001b[31m│\u001b[0m\n",
       "\u001b[31m│\u001b[0m \u001b[31m❱ \u001b[0m2157 \u001b[2m│   │   │   \u001b[0mdata = \u001b[96mself\u001b[0m._reader.read(nrows)                                               \u001b[31m│\u001b[0m\n",
       "\u001b[31m│\u001b[0m   \u001b[2m2158 \u001b[0m\u001b[2m│   │   \u001b[0m\u001b[94mexcept\u001b[0m \u001b[96mStopIteration\u001b[0m:                                                             \u001b[31m│\u001b[0m\n",
       "\u001b[31m│\u001b[0m   \u001b[2m2159 \u001b[0m\u001b[2m│   │   │   \u001b[0m\u001b[94mif\u001b[0m \u001b[96mself\u001b[0m._first_chunk:                                                         \u001b[31m│\u001b[0m\n",
       "\u001b[31m│\u001b[0m   \u001b[2m2160 \u001b[0m\u001b[2m│   │   │   │   \u001b[0m\u001b[96mself\u001b[0m._first_chunk = \u001b[94mFalse\u001b[0m                                                 \u001b[31m│\u001b[0m\n",
       "\u001b[31m│\u001b[0m                                                                                                  \u001b[31m│\u001b[0m\n",
       "\u001b[31m│\u001b[0m \u001b[2;33m/home/linzhisheng/esg/mlm/pandas/_libs/\u001b[0m\u001b[1;33mparsers.pyx\u001b[0m:\u001b[94m847\u001b[0m in \u001b[92mpandas._libs.parsers.TextReader.read\u001b[0m   \u001b[31m│\u001b[0m\n",
       "\u001b[31m│\u001b[0m                                                                                                  \u001b[31m│\u001b[0m\n",
       "\u001b[31m│\u001b[0m \u001b[3;31m[Errno 2] No such file or directory: '/home/linzhisheng/esg/mlm/pandas/_libs/parsers.pyx'\u001b[0m        \u001b[31m│\u001b[0m\n",
       "\u001b[31m│\u001b[0m                                                                                                  \u001b[31m│\u001b[0m\n",
       "\u001b[31m│\u001b[0m \u001b[2;33m/home/linzhisheng/esg/mlm/pandas/_libs/\u001b[0m\u001b[1;33mparsers.pyx\u001b[0m:\u001b[94m862\u001b[0m in                                        \u001b[31m│\u001b[0m\n",
       "\u001b[31m│\u001b[0m \u001b[92mpandas._libs.parsers.TextReader._read_low_memory\u001b[0m                                                 \u001b[31m│\u001b[0m\n",
       "\u001b[31m│\u001b[0m                                                                                                  \u001b[31m│\u001b[0m\n",
       "\u001b[31m│\u001b[0m \u001b[3;31m[Errno 2] No such file or directory: '/home/linzhisheng/esg/mlm/pandas/_libs/parsers.pyx'\u001b[0m        \u001b[31m│\u001b[0m\n",
       "\u001b[31m│\u001b[0m                                                                                                  \u001b[31m│\u001b[0m\n",
       "\u001b[31m│\u001b[0m \u001b[2;33m/home/linzhisheng/esg/mlm/pandas/_libs/\u001b[0m\u001b[1;33mparsers.pyx\u001b[0m:\u001b[94m941\u001b[0m in                                        \u001b[31m│\u001b[0m\n",
       "\u001b[31m│\u001b[0m \u001b[92mpandas._libs.parsers.TextReader._read_rows\u001b[0m                                                       \u001b[31m│\u001b[0m\n",
       "\u001b[31m│\u001b[0m                                                                                                  \u001b[31m│\u001b[0m\n",
       "\u001b[31m│\u001b[0m \u001b[3;31m[Errno 2] No such file or directory: '/home/linzhisheng/esg/mlm/pandas/_libs/parsers.pyx'\u001b[0m        \u001b[31m│\u001b[0m\n",
       "\u001b[31m│\u001b[0m                                                                                                  \u001b[31m│\u001b[0m\n",
       "\u001b[31m│\u001b[0m \u001b[2;33m/home/linzhisheng/esg/mlm/pandas/_libs/\u001b[0m\u001b[1;33mparsers.pyx\u001b[0m:\u001b[94m1073\u001b[0m in                                       \u001b[31m│\u001b[0m\n",
       "\u001b[31m│\u001b[0m \u001b[92mpandas._libs.parsers.TextReader._convert_column_data\u001b[0m                                             \u001b[31m│\u001b[0m\n",
       "\u001b[31m│\u001b[0m                                                                                                  \u001b[31m│\u001b[0m\n",
       "\u001b[31m│\u001b[0m \u001b[3;31m[Errno 2] No such file or directory: '/home/linzhisheng/esg/mlm/pandas/_libs/parsers.pyx'\u001b[0m        \u001b[31m│\u001b[0m\n",
       "\u001b[31m│\u001b[0m                                                                                                  \u001b[31m│\u001b[0m\n",
       "\u001b[31m│\u001b[0m \u001b[2;33m/home/linzhisheng/esg/mlm/pandas/_libs/\u001b[0m\u001b[1;33mparsers.pyx\u001b[0m:\u001b[94m1119\u001b[0m in                                       \u001b[31m│\u001b[0m\n",
       "\u001b[31m│\u001b[0m \u001b[92mpandas._libs.parsers.TextReader._convert_tokens\u001b[0m                                                  \u001b[31m│\u001b[0m\n",
       "\u001b[31m│\u001b[0m                                                                                                  \u001b[31m│\u001b[0m\n",
       "\u001b[31m│\u001b[0m \u001b[3;31m[Errno 2] No such file or directory: '/home/linzhisheng/esg/mlm/pandas/_libs/parsers.pyx'\u001b[0m        \u001b[31m│\u001b[0m\n",
       "\u001b[31m│\u001b[0m                                                                                                  \u001b[31m│\u001b[0m\n",
       "\u001b[31m│\u001b[0m \u001b[2;33m/home/linzhisheng/esg/mlm/pandas/_libs/\u001b[0m\u001b[1;33mparsers.pyx\u001b[0m:\u001b[94m1162\u001b[0m in                                       \u001b[31m│\u001b[0m\n",
       "\u001b[31m│\u001b[0m \u001b[92mpandas._libs.parsers.TextReader._convert_with_dtype\u001b[0m                                              \u001b[31m│\u001b[0m\n",
       "\u001b[31m│\u001b[0m                                                                                                  \u001b[31m│\u001b[0m\n",
       "\u001b[31m│\u001b[0m \u001b[3;31m[Errno 2] No such file or directory: '/home/linzhisheng/esg/mlm/pandas/_libs/parsers.pyx'\u001b[0m        \u001b[31m│\u001b[0m\n",
       "\u001b[31m│\u001b[0m                                                                                                  \u001b[31m│\u001b[0m\n",
       "\u001b[31m│\u001b[0m \u001b[2;33m/home/linzhisheng/esg-env/lib/python3.7/site-packages/pandas/core/dtypes/\u001b[0m\u001b[1;33mcommon.py\u001b[0m:\u001b[94m530\u001b[0m in        \u001b[31m│\u001b[0m\n",
       "\u001b[31m│\u001b[0m \u001b[92mis_categorical_dtype\u001b[0m                                                                             \u001b[31m│\u001b[0m\n",
       "\u001b[31m│\u001b[0m                                                                                                  \u001b[31m│\u001b[0m\n",
       "\u001b[31m│\u001b[0m   \u001b[2m 527 \u001b[0m\u001b[2m│   \u001b[0m\u001b[94mreturn\u001b[0m IntervalDtype.is_dtype(arr_or_dtype)                                           \u001b[31m│\u001b[0m\n",
       "\u001b[31m│\u001b[0m   \u001b[2m 528 \u001b[0m                                                                                          \u001b[31m│\u001b[0m\n",
       "\u001b[31m│\u001b[0m   \u001b[2m 529 \u001b[0m                                                                                          \u001b[31m│\u001b[0m\n",
       "\u001b[31m│\u001b[0m \u001b[31m❱ \u001b[0m 530 \u001b[94mdef\u001b[0m \u001b[92mis_categorical_dtype\u001b[0m(arr_or_dtype) -> \u001b[96mbool\u001b[0m:                                           \u001b[31m│\u001b[0m\n",
       "\u001b[31m│\u001b[0m   \u001b[2m 531 \u001b[0m\u001b[2m│   \u001b[0m\u001b[33m\"\"\"\u001b[0m                                                                                   \u001b[31m│\u001b[0m\n",
       "\u001b[31m│\u001b[0m   \u001b[2m 532 \u001b[0m\u001b[2;33m│   \u001b[0m\u001b[33mCheck whether an array-like or dtype is of the Categorical dtype.\u001b[0m                     \u001b[31m│\u001b[0m\n",
       "\u001b[31m│\u001b[0m   \u001b[2m 533 \u001b[0m                                                                                          \u001b[31m│\u001b[0m\n",
       "\u001b[31m╰──────────────────────────────────────────────────────────────────────────────────────────────────╯\u001b[0m\n",
       "\u001b[1;91mKeyboardInterrupt\u001b[0m\n"
      ]
     },
     "metadata": {},
     "output_type": "display_data"
    }
   ],
   "source": [
    "import pandas as pd\n",
    "def is_chinese(string):\n",
    "    \"\"\"\n",
    "    检查整个字符串是否包含中文\n",
    "    :param string: 需要检查的字符串\n",
    "    :return: bool\n",
    "    \"\"\"\n",
    "    for ch in string:\n",
    "        if u'\\u4e00' <= ch <= u'\\u9fff':\n",
    "            # print(string)\n",
    "            return True\n",
    "\n",
    "    return False\n",
    "source = pd.read_csv('source_all')\n",
    "print(source)\n",
    "# source = source[source['Abstract'].notna()]\n",
    "# print(source)\n",
    "source['Abstract'] = source['Abstract'].map(lambda x: pd.NA if is_chinese(x) == True else x)\n",
    "source = source[source['Abstract'].notna()]\n",
    "# source = source[source['Abstract'].str]\n",
    "print(source)\n",
    "source.to_csv(\"source_all_english\", index=False)\n"
   ]
  },
  {
   "cell_type": "code",
   "execution_count": 11,
   "metadata": {},
   "outputs": [
    {
     "name": "stdout",
     "output_type": "stream",
     "text": [
      "{'input_ids': [11070, 4, 569, 409, 1097, 2265, 1149, 284, 1006, 16, 12718, 16, 10471, 409, 272, 318, 2307, 1112, 381, 497, 381, 1229, 1097, 2265, 1149, 284, 409, 318, 2307, 1112, 3709, 272, 30335, 681, 4, 4, 4, 3642, 4094, 286, 24482, 16, 5005, 4, 569, 275, 50201, 43817, 13219, 1539, 3709, 272, 1151, 4, 4, 705, 381, 562, 381, 387, 30335, 681, 39864, 11262, 4, 3642, 4094, 286, 4, 3360, 1432, 286, 11576, 40108, 3226, 3263, 823, 409, 1097, 2265, 1149, 284, 4636, 409, 318, 2307, 1112, 3709, 609, 381, 2414, 4, 707, 8222, 337, 691, 4443, 561, 9875, 3709, 691, 28486, 3709, 691, 4549, 345, 510, 284, 2704, 2887, 25909, 381, 2, 0, 4, 275, 30086, 387, 898, 406, 379, 4, 528, 352, 1282, 409, 272, 829], 'attention_mask': [1, 1, 1, 1, 1, 1, 1, 1, 1, 1, 1, 1, 1, 1, 1, 1, 1, 1, 1, 1, 1, 1, 1, 1, 1, 1, 1, 1, 1, 1, 1, 1, 1, 1, 1, 1, 1, 1, 1, 1, 1, 1, 1, 1, 1, 1, 1, 1, 1, 1, 1, 1, 1, 1, 1, 1, 1, 1, 1, 1, 1, 1, 1, 1, 1, 1, 1, 1, 1, 1, 1, 1, 1, 1, 1, 1, 1, 1, 1, 1, 1, 1, 1, 1, 1, 1, 1, 1, 1, 1, 1, 1, 1, 1, 1, 1, 1, 1, 1, 1, 1, 1, 1, 1, 1, 1, 1, 1, 1, 1, 1, 1, 1, 1, 1, 1, 1, 1, 1, 1, 1, 1, 1, 1, 1, 1, 1, 1], 'labels': [11070, 3360, 569, 409, 1097, 2265, 1149, 284, 1006, 16, 12718, 16, 10471, 409, 272, 318, 2307, 1112, 381, 497, 381, 1229, 1097, 2265, 1149, 284, 409, 318, 2307, 1112, 3709, 272, 30335, 681, 50201, 43817, 519, 3642, 4094, 286, 24482, 16, 5005, 3360, 569, 275, 50201, 43817, 13219, 1539, 3709, 272, 1151, 9964, 3401, 705, 381, 562, 381, 387, 30335, 681, 50201, 43817, 519, 3642, 4094, 286, 10685, 3360, 1432, 286, 11576, 40108, 3226, 3263, 823, 409, 1097, 2265, 1149, 284, 4636, 409, 318, 2307, 1112, 3709, 609, 381, 2414, 353, 707, 8222, 337, 691, 4443, 561, 9875, 3709, 691, 28486, 3709, 691, 4549, 345, 510, 284, 2704, 2887, 25909, 381, 2, 0, 528, 275, 30086, 387, 898, 406, 379, 1238, 528, 352, 1282, 409, 272, 829]}\n"
     ]
    }
   ],
   "source": [
    "from datasets import load_from_disk\n",
    "from datasets import disable_caching\n",
    "from transformers import AutoTokenizer\n",
    "tokenizer = AutoTokenizer.from_pretrained('/home/linzhisheng/esg/mlm/roberta-esg-tokenizer')\n",
    "disable_caching()\n",
    "t = load_from_disk('mask_datasets_80_10_10_all')\n",
    "# print(tokenizer.decode(t[0]['input_ids']))\n",
    "train = t['train'].select(range(100,102))\n",
    "print(train[1])\n",
    "# downsampled_dataset = t.train_test_split(\n",
    "#         train_size=4000000, test_size=400000, seed=42\n",
    "#     )\n",
    "# downsampled_dataset.save_to_disk('mask_datasets_80_10_10_all')\n",
    "# print(downsampled_dataset)\n",
    "\n"
   ]
  },
  {
   "cell_type": "code",
   "execution_count": null,
   "metadata": {},
   "outputs": [],
   "source": []
  },
  {
   "cell_type": "code",
   "execution_count": null,
   "metadata": {},
   "outputs": [
    {
     "name": "stderr",
     "output_type": "stream",
     "text": [
      "Token indices sequence length is longer than the specified maximum sequence length for this model (703 > 512). Running this sequence through the model will result in indexing errors\n"
     ]
    },
    {
     "data": {
      "text/plain": [
       "703"
      ]
     },
     "execution_count": 6,
     "metadata": {},
     "output_type": "execute_result"
    }
   ],
   "source": [
    "from transformers import AutoTokenizer\n",
    "import random\n",
    "tokenizer = AutoTokenizer.from_pretrained('roberta-esg-tokenizer')\n",
    "input = ''\n",
    "for i in range(700):\n",
    "    input = input + 'good '\n",
    "len(tokenizer(input)['input_ids'])"
   ]
  },
  {
   "cell_type": "code",
   "execution_count": null,
   "metadata": {},
   "outputs": [
    {
     "name": "stdout",
     "output_type": "stream",
     "text": [
      "[('a', 2), ('b', 5), ('c', 1)]\n"
     ]
    }
   ],
   "source": [
    "a = {\n",
    "    'a':2,\n",
    "    'b':5,\n",
    "    'c':1\n",
    "}\n",
    "# a.items()\n",
    "print(sorted(a.items(), key = lambda x:x[1],reverse = True))\n"
   ]
  },
  {
   "cell_type": "code",
   "execution_count": null,
   "metadata": {},
   "outputs": [
    {
     "data": {
      "text/plain": [
       "(-0.5, 399.5, 199.5, -0.5)"
      ]
     },
     "execution_count": 20,
     "metadata": {},
     "output_type": "execute_result"
    },
    {
     "data": {
      "image/png": "[encoded data removed]",
      "text/plain": [
       "<Figure size 640x480 with 1 Axes>"
      ]
     },
     "metadata": {},
     "output_type": "display_data"
    }
   ],
   "source": [
    "#!/usr/bin/env python\n",
    "\"\"\"\n",
    "Minimal Example\n",
    "===============\n",
    "Generating a square wordcloud from the US constitution using default arguments.\n",
    "\"\"\"\n",
    "\n",
    "import os\n",
    "\n",
    "from os import path\n",
    "from wordcloud import WordCloud\n",
    "\n",
    "# get data directory (using getcwd() is needed to support running example in generated IPython notebook)\n",
    "\n",
    "\n",
    "# Read the whole text.\n",
    "# inasd = {('it', 2691), ('report', 2585), ('the', 2551), ('association', 2533), ('company', 2495), ('one', 2478), ('employees', 2466), ('group', 2463), ('policy', 2454), ('operations', 2441), ('us', 2410), ('diversity', 2392), ('all', 2366), ('shareholders', 2352), ('business', 2348), ('meeting', 2330), ('directors', 2327), ('total', 2327), ('information', 2317), ('rights', 2301), ('code', 2296), ('and', 2284), ('conduct', 2275), ('responsibility', 2254), ('foundation', 2252), ('environment', 2247), ('up', 2244), ('inclusion', 2233), ('integrity', 2217), ('status', 2213), ('first', 2213), ('control', 2208), ('commitment', 2202), ('people', 2202), ('no', 2188), ('customers', 2185), ('who', 2182), ('compliance', 2179), ('purpose', 2173), ('safety', 2167), ('management', 2166), ('sustainability', 2166), ('bylaws', 2165), ('society', 2164), ('reporting', 2158), ('st', 2152), ('change', 2150), ('life', 2138), ('capital', 2129), ('board', 2122), ('committee', 2120), ('care', 2120), ('review', 2119), ('as', 2119), ('practices', 2117), ('principles', 2116), ('an', 2116), ('energy', 2110), ('suppliers', 2103), ('development', 2099), ('co', 2091), ('best', 2090), ('director', 2089), ('vision', 2086), ('communities', 2084), ('responsibilities', 2080), ('others', 2069), ('ethics', 2068), ('impact', 2056), ('data', 2055), ('rules', 2050), ('performance', 2039), ('trust', 2032), ('strategy', 2030), ('role', 2027), ('services', 2025), ('this', 2017), ('risks', 2016), ('approach', 2014), ('composition', 2011), ('work', 2011), ('protection', 2011), ('bank', 2002), ('officers', 1992), ('contents', 1991), ('commitments', 1984), ('that', 1982), ('incorporation', 1979), ('action', 1974), ('organization', 1972), ('system', 1972), ('act', 1970), ('corporation', 1964), ('world', 1964), ('charter', 1962), ('statement', 1957), ('lead', 1955), ('equality', 1950), ('shares', 1946)}\n",
    "\n",
    "# Generate a word cloud image\n",
    "wordcloud = WordCloud(width=400).generate_from_frequencies({'a':1000})\n",
    "wordcloud.to_file(\"wordcloud.png\")\n",
    "# Display the generated image:\n",
    "# the matplotlib way:\n",
    "import matplotlib.pyplot as plt\n",
    "plt.imshow(wordcloud, interpolation='bilinear')\n",
    "plt.axis(\"off\")\n",
    "\n",
    "# lower max_font_size\n",
    "# wordcloud = WordCloud(max_font_size=40).generate(text)\n",
    "# plt.figure()\n",
    "# plt.imshow(wordcloud, interpolation=\"bilinear\")\n",
    "# plt.axis(\"off\")\n",
    "# plt.show()\n",
    "\n",
    "# The pil way (if you don't have matplotlib)\n",
    "# image = wordcloud.to_image()\n",
    "# image.show()"
   ]
  },
  {
   "cell_type": "code",
   "execution_count": null,
   "metadata": {},
   "outputs": [
    {
     "name": "stdout",
     "output_type": "stream",
     "text": [
      "100\n",
      "1407\n"
     ]
    }
   ],
   "source": [
    "# import os\n",
    "# os.environ[\"CUDA_VISIBLE_DEVICES\"] = \"3\"\n",
    "from sklearn.feature_extraction.text import CountVectorizer\n",
    "from transformers import AutoModelForMaskedLM\n",
    "from transformers import AutoTokenizer\n",
    "from transformers import pipeline\n",
    "from keybert import KeyBERT\n",
    "from flair.embeddings import TransformerDocumentEmbeddings\n",
    "import pandas as pd\n",
    "import torch\n",
    "import numpy as np\n",
    "import spacy\n",
    "from wordcloud import WordCloud\n",
    "nlp = spacy.load('en_core_web_sm')\n",
    "\n",
    "def predict(model, tokenizer, source,topk):\n",
    "    print(topk)\n",
    "    TEMPLATES = [\n",
    "        # 'The Keyword is <mask>.',\n",
    "        # 'The keyword is <mask>.',\n",
    "        # 'In summary, the related word is <mask>.',\n",
    "        # 'In summary, the keyword is <mask>.',\n",
    "        # '<mask> is the related word. ',\n",
    "        # '<mask> is the keyphrase. ',\n",
    "        '<mask> is the keyword. ',\n",
    "        # 'In summary, <mask> is the keyphrase. ',\n",
    "        # 'In summary, <mask> is the keyword. ',\n",
    "        # 'In summary, <mask> is the related word. ',\n",
    "        # 'All in all, <mask> is the keyword. ',\n",
    "        # 'All in all, <mask> is the related word. '\n",
    "    ]\n",
    "    average_radio = 0\n",
    "    result = {}\n",
    "    first = 1\n",
    "    for input in source:\n",
    "        # input_list = input.replace(',', '').replace('.', '').split(' ')\n",
    "        # input_list = [s.lower() for s in input_list]\n",
    "        # print(input_list)\n",
    "        # print(print(input))\n",
    "        for T in TEMPLATES:\n",
    "            mask_input = T + input\n",
    "            inputs = tokenizer(\n",
    "                mask_input, return_tensors=\"pt\", truncation=True).to(torch.device('cuda:0'))\n",
    "            # print(inputs)\n",
    "            token_logits = model(**inputs).logits\n",
    "            # Find the location of [MASK] and extract its logits\n",
    "            mask_token_index = torch.where(\n",
    "                inputs[\"input_ids\"] == tokenizer.mask_token_id)[1]\n",
    "            # print(token_logits.shape)\n",
    "            mask_token_logits = token_logits[0, mask_token_index, :]\n",
    "            # Pick the [MASK] candidates with the highest logits\n",
    "            top_tokens = torch.topk(\n",
    "                mask_token_logits, topk, dim=1).indices[0].tolist()\n",
    "            # print(top_tokens)\n",
    "            top_tokens_list = tokenizer.decode(top_tokens).split(' ')\n",
    "            top_tokens_list.pop(0)\n",
    "            top_tokens_list = [s.lower() for s in top_tokens_list]\n",
    "\n",
    "            for token in top_tokens_list:\n",
    "                if token in result.keys():\n",
    "                    result[token] = result[token] + 1\n",
    "                else:\n",
    "                    result[token] = 1\n",
    "            # intersect = set(input_list) & set(top_tokens_list)\n",
    "            # average_radio = average_radio + \\\n",
    "            #     len(intersect)/len(input_list)/len(source)\n",
    "            # print(f\"{T}:intersect:{intersect}, radio is {len(intersect)/len(input_list)}\\n\")\n",
    "            \n",
    "            # print(f\"{T}:{top_tokens_list}\")\n",
    "            \n",
    "            # for doc in nlp.pipe(top_tokens_list):\n",
    "            #     for token in doc:\n",
    "            #         print(token.tag_)\n",
    "            # join_word = ''.join(x + ' ' for x in top_tokens_list)\n",
    "            # classified = ZSC.text_labels(join_word, candidate_labels)\n",
    "            # print(f'template:{T} res:{classified}\\n')\n",
    "            # for token in top_5_tokens:\n",
    "            # print(f\"{T}, keyword is [{tokenizer.decode(top_tokens)}]\")\n",
    "            # res = tokenizer(input)\n",
    "            # output = model(**res)\n",
    "            # print(output)\n",
    "\n",
    "            # preds = mask_filler(mask_input)\n",
    "            # for pred in preds:\n",
    "            #     print(f\">>> {pred['token_str']} >>> score is {pred['score']}\")\n",
    "        # print('\\n\\n==================================================')\n",
    "    # print(f'average:{average_radio}')\n",
    "    print(len(result))\n",
    "    wordcloud = WordCloud(width=1600, height=1600,background_color=\"white\",max_words = 10000).generate_from_frequencies(result)\n",
    "    wordcloud.to_file('wordcloud.png')\n",
    "\n",
    "    # print(f'top-k is {topk}, res is: {sorted(result.items(), key = lambda x:x[1],reverse = True)[:1000]}')\n",
    "    # using key bert\n",
    "    # hf_model = pipeline(\"feature-extraction\", model=model, tokenizer = tokenizer)\n",
    "    # kw_model = KeyBERT(model = hf_model)\n",
    "\n",
    "    # keywords = kw_model.extract_keywords(input, top_n = 100)\n",
    "    # print(keywords)\n",
    "    # print(len(keywords))\n",
    "def test_predict():\n",
    "    esg_tokenizer = AutoTokenizer.from_pretrained('roberta-esg-tokenizer')\n",
    "    # ori_tokenizer = AutoTokenizer.from_pretrained('roberta-large')\n",
    "    source = pd.read_csv('source_all_english', nrows=100000)\n",
    "    source = source[40000:41000]\n",
    "    input = []\n",
    "    input.append(\"Interpublics Directors are elected each year by Interpublics stockholders at the annual meeting of stockholders. Interpublics Corporate Governance Committee recommends nominees to the Board of Directors, and the Board proposes a slate of nominees to the stockholders for election.\")\n",
    "    input.append('To contribute to climate change mitigation, we actively explore opportunities to support local renewable energy generation. Solar panels are installed at Hang Seng 113 to generate renewable energy.')\n",
    "    input = source['Abstract'].tolist()\n",
    "    # model = AutoModelForMaskedLM.from_pretrained(local)\n",
    "    # origin_model = AutoModelForMaskedLM.from_pretrained('roberta-large').to(torch.device('cuda:0'))\n",
    "    random_mask_model = AutoModelForMaskedLM.from_pretrained('esg-roberta-random-model').to(torch.device('cuda:0'))\n",
    "    # predict(origin_model, ori_tokenizer, input)\n",
    "    # for i in range(3):\n",
    "    #     predict(origin_model, ori_tokenizer, input, 100*pow(10,i))\n",
    "        \n",
    "    for i in range(1):\n",
    "        predict(random_mask_model, esg_tokenizer, input, 100*pow(10,i))\n",
    "\n",
    "test_predict()\n",
    "    # predict(model)"
   ]
  },
  {
   "cell_type": "markdown",
   "metadata": {},
   "source": []
  },
  {
   "cell_type": "code",
   "execution_count": null,
   "metadata": {},
   "outputs": [
    {
     "data": {
      "application/vnd.jupyter.widget-view+json": {
       "model_id": "0a7f48e1e6c248dcba21c04e66b6770c",
       "version_major": 2,
       "version_minor": 0
      },
      "text/plain": [
       "Downloading:   0%|          | 0.00/359 [00:00<?, ?B/s]"
      ]
     },
     "metadata": {},
     "output_type": "display_data"
    },
    {
     "data": {
      "application/vnd.jupyter.widget-view+json": {
       "model_id": "98a15050859845adb4972b27835d30fd",
       "version_major": 2,
       "version_minor": 0
      },
      "text/plain": [
       "Downloading:   0%|          | 0.00/442M [00:00<?, ?B/s]"
      ]
     },
     "metadata": {},
     "output_type": "display_data"
    },
    {
     "name": "stderr",
     "output_type": "stream",
     "text": [
      "Some weights of the model checkpoint at yiyanghkust/finbert-pretrain were not used when initializing BertForMaskedLM: ['cls.seq_relationship.weight', 'cls.seq_relationship.bias']\n",
      "- This IS expected if you are initializing BertForMaskedLM from the checkpoint of a model trained on another task or with another architecture (e.g. initializing a BertForSequenceClassification model from a BertForPreTraining model).\n",
      "- This IS NOT expected if you are initializing BertForMaskedLM from the checkpoint of a model that you expect to be exactly identical (initializing a BertForSequenceClassification model from a BertForSequenceClassification model).\n"
     ]
    },
    {
     "data": {
      "application/vnd.jupyter.widget-view+json": {
       "model_id": "cab38c52597d42d3b94a6f887e5b1a60",
       "version_major": 2,
       "version_minor": 0
      },
      "text/plain": [
       "Downloading:   0%|          | 0.00/226k [00:00<?, ?B/s]"
      ]
     },
     "metadata": {},
     "output_type": "display_data"
    },
    {
     "data": {
      "text/plain": [
       "'[MASK]'"
      ]
     },
     "execution_count": 16,
     "metadata": {},
     "output_type": "execute_result"
    }
   ],
   "source": [
    "from transformers import AutoTokenizer\n",
    "import torch\n",
    "from transformers import AutoModelForMaskedLM\n",
    "model = AutoModelForMaskedLM.from_pretrained('yiyanghkust/finbert-pretrain')\n",
    "t = AutoTokenizer.from_pretrained('yiyanghkust/finbert-pretrain')\n",
    "t.mask_token\n"
   ]
  },
  {
   "cell_type": "code",
   "execution_count": 56,
   "metadata": {},
   "outputs": [
    {
     "name": "stdout",
     "output_type": "stream",
     "text": [
      "1\n",
      "{'input_ids': [0, 225, 133, 259, 2], 'attention_mask': [1, 1, 1, 1, 1]}\n",
      "Ġ\n"
     ]
    },
    {
     "data": {
      "text/plain": [
       "' Connect Sverige JointStock'"
      ]
     },
     "execution_count": 56,
     "metadata": {},
     "output_type": "execute_result"
    }
   ],
   "source": [
    "from transformers import AutoTokenizer\n",
    "import torch\n",
    "import random\n",
    "tokenizer = AutoTokenizer.from_pretrained('roberta-esg-tokenizer')\n",
    "text = '  '\n",
    "# print(tokenizer(' Table'))\n",
    "print(text.find('Ġ'))\n",
    "print(tokenizer(text))\n",
    "print(tokenizer.convert_ids_to_tokens(225))\n",
    "# # for i in range(100):\n",
    "# #     ran = random.randint(0,50264)\n",
    "# #     token = tokenizer.convert_ids_to_tokens(ran)\n",
    "# #     if token.find('Ġ') == 0:\n",
    "# #         print((token,token[1:]))\n",
    "# # print(token.find('Ġ'))\n",
    "mask_text = ''\n",
    "for i in range(len(tokenizer(text)['input_ids']) - 2):\n",
    "    while 1:\n",
    "        ran = random.randint(0, 50264)\n",
    "        random_token = tokenizer.convert_ids_to_tokens(ran)\n",
    "        if random_token.find('Ġ') == 0:\n",
    "            mask_text = mask_text + ' ' + random_token[1:]\n",
    "            break\n",
    "mask_text\n"
   ]
  },
  {
   "cell_type": "code",
   "execution_count": null,
   "metadata": {},
   "outputs": [],
   "source": []
  },
  {
   "cell_type": "code",
   "execution_count": null,
   "metadata": {},
   "outputs": [],
   "source": []
  },
  {
   "cell_type": "code",
   "execution_count": null,
   "metadata": {},
   "outputs": [],
   "source": []
  }
 ],
 "metadata": {
  "kernelspec": {
   "display_name": "Python 3.7.3 ('esg-env': venv)",
   "language": "python",
   "name": "python3"
  },
  "language_info": {
   "codemirror_mode": {
    "name": "ipython",
    "version": 3
   },
   "file_extension": ".py",
   "mimetype": "text/x-python",
   "name": "python",
   "nbconvert_exporter": "python",
   "pygments_lexer": "ipython3",
   "version": "3.7.3"
  },
  "orig_nbformat": 4,
  "vscode": {
   "interpreter": {
    "hash": "705f550babcdce45f48d8787f58c81cb6391e873d59f11c8d7074ed5565f0fb2"
   }
  }
 },
 "nbformat": 4,
 "nbformat_minor": 2
}
